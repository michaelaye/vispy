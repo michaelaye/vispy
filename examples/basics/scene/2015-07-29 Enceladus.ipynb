{
 "cells": [
  {
   "cell_type": "code",
   "execution_count": 1,
   "metadata": {
    "collapsed": false,
    "scrolled": false
   },
   "outputs": [
    {
     "name": "stderr",
     "output_type": "stream",
     "text": [
      "/Users/klay6683/miniconda3/envs/py35/lib/python3.5/site-packages/IPython/config.py:13: ShimWarning: The `IPython.config` package has been deprecated. You should import from traitlets.config instead.\n",
      "  \"You should import from traitlets.config instead.\", ShimWarning)\n"
     ]
    }
   ],
   "source": [
    "# %load enceladus_jets.py\n",
    "# vispy: gallery 10\n",
    "# Copyright (c) 2015, Vispy Development Team.\n",
    "# Distributed under the (new) BSD License. See LICENSE.txt for more info.\n",
    "\n",
    "\"\"\" Demonstrates use of visual.Markers to create a point cloud with a\n",
    "standard turntable camera to fly around with and a centered 3D Axis.\n",
    "\"\"\"\n",
    "\n",
    "import sys\n",
    "import numpy as np\n",
    "from vispy import scene\n",
    "from vispy.scene import visuals\n",
    "\n",
    "# read in particle data\n",
    "data = np.load('/Users/klay6683/Dropbox/SternchenAndMe/Enceladus_stuff/jet_run_15000_20h33m39_p.dat')\n",
    "# scale positions to units of Enceladus radius\n",
    "data /= 252000 \n",
    "\n",
    "#\n",
    "# Make a canvas and add simple view\n",
    "#\n",
    "canvas = scene.SceneCanvas(keys='interactive', show=True, bgcolor='w')\n",
    "\n",
    "view = canvas.central_widget.add_view()\n",
    "\n",
    "view.camera = 'arcball'\n",
    "view.camera.fov = 30\n",
    "enc = visuals.Sphere(radius=1, parent=view.scene)\n",
    "\n",
    "# add a colored 3D axis for orientation\n",
    "# axis = visuals.XYZAxis(parent=view.scene, width=10, scale=-1.1)\n",
    "\n",
    "# create scatter object and fill in the data\n",
    "def set_scatters(scatter, i, color=(0,1,0,0.5)):\n",
    "    scatter.set_data(data[..., i], edge_color=None,\n",
    "                     face_color=color, size=5)\n",
    "    view.add(scatter)\n",
    "\n",
    "# initial setting:\n",
    "scatter = visuals.Markers()\n",
    "set_scatters(scatter, 0)\n",
    "\n",
    "# scatter2 = visuals.Markers()\n",
    "# set_scatters(scatter2, 1, color=(1,0,0,0.5))\n",
    "\n",
    "# view.camera.zoom_factor /= 10\n",
    "\n",
    "if __name__ == '__main__' and sys.flags.interactive == 0:\n",
    "    canvas.app.run()\n"
   ]
  },
  {
   "cell_type": "code",
   "execution_count": 1,
   "metadata": {
    "collapsed": false,
    "scrolled": false
   },
   "outputs": [
    {
     "name": "stderr",
     "output_type": "stream",
     "text": [
      "/Users/klay6683/miniconda3/envs/py35/lib/python3.5/site-packages/IPython/config.py:13: ShimWarning: The `IPython.config` package has been deprecated. You should import from traitlets.config instead.\n",
      "  \"You should import from traitlets.config instead.\", ShimWarning)\n"
     ]
    }
   ],
   "source": [
    "import sys\n",
    "import numpy as np\n",
    "from vispy import scene\n",
    "from vispy.scene import visuals\n",
    "\n",
    "# read in particle data\n",
    "data = np.load('/Users/klay6683/Dropbox/SternchenAndMe/Enceladus_stuff/jet_run_15000_20h33m39_p.dat')\n",
    "# scale positions to units of Enceladus radius\n",
    "data /= 252000 \n",
    "\n",
    "#\n",
    "# Make a canvas and add simple view\n",
    "#\n",
    "canvas = scene.SceneCanvas(keys='interactive', show=True, bgcolor='w')\n",
    "\n",
    "view = canvas.central_widget.add_view()\n",
    "\n",
    "view.camera = 'arcball'\n",
    "view.camera.fov = 30\n",
    "enc = visuals.Sphere(radius=1, parent=view.scene)\n",
    "\n",
    "# add a colored 3D axis for orientation\n",
    "# axis = visuals.XYZAxis(parent=view.scene, width=10, scale=-1.1)\n",
    "\n",
    "# create scatter object and fill in the data\n",
    "def set_scatters(scatter, i, color=(0,1,0,0.5)):\n",
    "    scatter.set_data(data[..., i], edge_color=None,\n",
    "                     face_color=color, size=5)\n",
    "    view.add(scatter)\n",
    "\n",
    "# initial setting:\n",
    "scatter = visuals.Markers()\n",
    "set_scatters(scatter, 0)\n",
    "\n",
    "# scatter2 = visuals.Markers()\n",
    "# set_scatters(scatter2, 1, color=(1,0,0,0.5))\n",
    "\n",
    "# view.camera.zoom_factor /= 10\n",
    "\n",
    "if __name__ == '__main__' and sys.flags.interactive == 0:\n",
    "    canvas.app.run()\n"
   ]
  },
  {
   "cell_type": "code",
   "execution_count": 10,
   "metadata": {
    "collapsed": false
   },
   "outputs": [
    {
     "data": {
      "text/plain": [
       "[<vispy.visuals.mesh.MeshVisual at 0x116e82f98>,\n",
       " <vispy.visuals.mesh.MeshVisual at 0x114231240>]"
      ]
     },
     "execution_count": 10,
     "metadata": {},
     "output_type": "execute_result"
    }
   ],
   "source": [
    "view._subvisuals"
   ]
  },
  {
   "cell_type": "code",
   "execution_count": 3,
   "metadata": {
    "collapsed": true
   },
   "outputs": [],
   "source": [
    "scatter.set_data?"
   ]
  },
  {
   "cell_type": "code",
   "execution_count": 4,
   "metadata": {
    "collapsed": true
   },
   "outputs": [],
   "source": [
    "view.remove_subvisual?"
   ]
  },
  {
   "cell_type": "code",
   "execution_count": null,
   "metadata": {
    "collapsed": true
   },
   "outputs": [],
   "source": []
  }
 ],
 "metadata": {
  "kernelspec": {
   "display_name": "Python 3",
   "language": "python",
   "name": "python3"
  },
  "language_info": {
   "codemirror_mode": {
    "name": "ipython",
    "version": 3
   },
   "file_extension": ".py",
   "mimetype": "text/x-python",
   "name": "python",
   "nbconvert_exporter": "python",
   "pygments_lexer": "ipython3",
   "version": "3.5.1"
  }
 },
 "nbformat": 4,
 "nbformat_minor": 0
}
