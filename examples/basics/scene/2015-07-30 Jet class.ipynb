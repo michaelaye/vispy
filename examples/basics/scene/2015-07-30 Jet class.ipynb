{
 "cells": [
  {
   "cell_type": "code",
   "execution_count": 4,
   "metadata": {
    "collapsed": false
   },
   "outputs": [],
   "source": [
    "n = 10\n",
    "loc_data = np.zeros((n, 2))\n",
    "loc_data[0] = np.array([12, 120])\n",
    "loc_data[1] = np.array([56, 43])"
   ]
  },
  {
   "cell_type": "code",
   "execution_count": 5,
   "metadata": {
    "collapsed": false
   },
   "outputs": [
    {
     "data": {
      "text/plain": [
       "array([[  12.,  120.],\n",
       "       [  56.,   43.],\n",
       "       [   0.,    0.],\n",
       "       [   0.,    0.],\n",
       "       [   0.,    0.],\n",
       "       [   0.,    0.],\n",
       "       [   0.,    0.],\n",
       "       [   0.,    0.],\n",
       "       [   0.,    0.],\n",
       "       [   0.,    0.]])"
      ]
     },
     "execution_count": 5,
     "metadata": {},
     "output_type": "execute_result"
    }
   ],
   "source": [
    "loc_data"
   ]
  },
  {
   "cell_type": "code",
   "execution_count": 6,
   "metadata": {
    "collapsed": true
   },
   "outputs": [],
   "source": [
    "class JetManager(object):\n",
    "    def __init__(self, no):\n",
    "        self.no = no\n",
    "        self.lat = loc_data[no][0]\n",
    "        self.lon = loc_data[no][1]"
   ]
  },
  {
   "cell_type": "code",
   "execution_count": 7,
   "metadata": {
    "collapsed": true
   },
   "outputs": [],
   "source": [
    "simman = Jet(0)"
   ]
  },
  {
   "cell_type": "code",
   "execution_count": 8,
   "metadata": {
    "collapsed": false
   },
   "outputs": [
    {
     "data": {
      "text/plain": [
       "12.0"
      ]
     },
     "execution_count": 8,
     "metadata": {},
     "output_type": "execute_result"
    }
   ],
   "source": [
    "jet.lat"
   ]
  },
  {
   "cell_type": "code",
   "execution_count": 9,
   "metadata": {
    "collapsed": false
   },
   "outputs": [
    {
     "data": {
      "text/plain": [
       "120.0"
      ]
     },
     "execution_count": 9,
     "metadata": {},
     "output_type": "execute_result"
    }
   ],
   "source": [
    "jet.lon"
   ]
  },
  {
   "cell_type": "code",
   "execution_count": 18,
   "metadata": {
    "collapsed": false
   },
   "outputs": [],
   "source": [
    "class Particle(object):\n",
    "    def __init__(self, sourcejet):\n",
    "        self.source = sourcejet\n",
    "        self.pos = (self.source.lat, self.source.lon)\n",
    "        self.origpos = self.pos.copy()\n",
    "    def update_pos(self, newpos):\n",
    "        self.pos = newpos"
   ]
  },
  {
   "cell_type": "code",
   "execution_count": 11,
   "metadata": {
    "collapsed": true
   },
   "outputs": [],
   "source": [
    "def convert_porco(old):\n",
    "    return 180. - old - 3.5"
   ]
  },
  {
   "cell_type": "code",
   "execution_count": 12,
   "metadata": {
    "collapsed": true
   },
   "outputs": [],
   "source": [
    "def convert_porco2(old):\n",
    "    return 180. - (old - 3.5)"
   ]
  },
  {
   "cell_type": "code",
   "execution_count": 16,
   "metadata": {
    "collapsed": false
   },
   "outputs": [],
   "source": [
    "input = np.arange(0, 360, 5)"
   ]
  },
  {
   "cell_type": "code",
   "execution_count": 17,
   "metadata": {
    "collapsed": false
   },
   "outputs": [
    {
     "name": "stdout",
     "output_type": "stream",
     "text": [
      "0 176.5 183.5\n",
      "5 171.5 178.5\n",
      "10 166.5 173.5\n",
      "15 161.5 168.5\n",
      "20 156.5 163.5\n",
      "25 151.5 158.5\n",
      "30 146.5 153.5\n",
      "35 141.5 148.5\n",
      "40 136.5 143.5\n",
      "45 131.5 138.5\n",
      "50 126.5 133.5\n",
      "55 121.5 128.5\n",
      "60 116.5 123.5\n",
      "65 111.5 118.5\n",
      "70 106.5 113.5\n",
      "75 101.5 108.5\n",
      "80 96.5 103.5\n",
      "85 91.5 98.5\n",
      "90 86.5 93.5\n",
      "95 81.5 88.5\n",
      "100 76.5 83.5\n",
      "105 71.5 78.5\n",
      "110 66.5 73.5\n",
      "115 61.5 68.5\n",
      "120 56.5 63.5\n",
      "125 51.5 58.5\n",
      "130 46.5 53.5\n",
      "135 41.5 48.5\n",
      "140 36.5 43.5\n",
      "145 31.5 38.5\n",
      "150 26.5 33.5\n",
      "155 21.5 28.5\n",
      "160 16.5 23.5\n",
      "165 11.5 18.5\n",
      "170 6.5 13.5\n",
      "175 1.5 8.5\n",
      "180 -3.5 3.5\n",
      "185 -8.5 -1.5\n",
      "190 -13.5 -6.5\n",
      "195 -18.5 -11.5\n",
      "200 -23.5 -16.5\n",
      "205 -28.5 -21.5\n",
      "210 -33.5 -26.5\n",
      "215 -38.5 -31.5\n",
      "220 -43.5 -36.5\n",
      "225 -48.5 -41.5\n",
      "230 -53.5 -46.5\n",
      "235 -58.5 -51.5\n",
      "240 -63.5 -56.5\n",
      "245 -68.5 -61.5\n",
      "250 -73.5 -66.5\n",
      "255 -78.5 -71.5\n",
      "260 -83.5 -76.5\n",
      "265 -88.5 -81.5\n",
      "270 -93.5 -86.5\n",
      "275 -98.5 -91.5\n",
      "280 -103.5 -96.5\n",
      "285 -108.5 -101.5\n",
      "290 -113.5 -106.5\n",
      "295 -118.5 -111.5\n",
      "300 -123.5 -116.5\n",
      "305 -128.5 -121.5\n",
      "310 -133.5 -126.5\n",
      "315 -138.5 -131.5\n",
      "320 -143.5 -136.5\n",
      "325 -148.5 -141.5\n",
      "330 -153.5 -146.5\n",
      "335 -158.5 -151.5\n",
      "340 -163.5 -156.5\n",
      "345 -168.5 -161.5\n",
      "350 -173.5 -166.5\n",
      "355 -178.5 -171.5\n"
     ]
    }
   ],
   "source": [
    "for i, j,k in zip(input, convert_porco(input), convert_porco2(input)):\n",
    "    print(i,j,k)"
   ]
  },
  {
   "cell_type": "code",
   "execution_count": 30,
   "metadata": {
    "collapsed": false
   },
   "outputs": [],
   "source": [
    "import SpiceyPy as spice"
   ]
  },
  {
   "cell_type": "code",
   "execution_count": 32,
   "metadata": {
    "collapsed": false
   },
   "outputs": [
    {
     "data": {
      "text/plain": [
       "array([  18524.55869571, -166788.73451584, -108804.22217787])"
      ]
     },
     "execution_count": 32,
     "metadata": {},
     "output_type": "execute_result"
    }
   ],
   "source": [
    "spice.latrec(200000, -80, 10)"
   ]
  },
  {
   "cell_type": "code",
   "execution_count": 33,
   "metadata": {
    "collapsed": false
   },
   "outputs": [
    {
     "data": {
      "text/plain": [
       "array([  18.5245587 , -166.78873452, -108.80422218])"
      ]
     },
     "execution_count": 33,
     "metadata": {},
     "output_type": "execute_result"
    }
   ],
   "source": [
    "spice.latrec(200, -80, 10)"
   ]
  },
  {
   "cell_type": "code",
   "execution_count": 34,
   "metadata": {
    "collapsed": true
   },
   "outputs": [],
   "source": [
    "spice.reclat?"
   ]
  },
  {
   "cell_type": "code",
   "execution_count": 40,
   "metadata": {
    "collapsed": false
   },
   "outputs": [],
   "source": [
    "axes = np.array([250, 260, 270])\n",
    "axes = axes*1000\n",
    "point_i = spice.latrec(axes[2], np.deg2rad(170), np.deg2rad(-85))"
   ]
  },
  {
   "cell_type": "code",
   "execution_count": 39,
   "metadata": {
    "collapsed": false
   },
   "outputs": [
    {
     "data": {
      "text/plain": [
       "array([-0.0999795 ,  0.01629908, -0.99485599])"
      ]
     },
     "execution_count": 39,
     "metadata": {},
     "output_type": "execute_result"
    }
   ],
   "source": [
    "spice.surfnm(axes[0], axes[1], axes[2], point_i)"
   ]
  },
  {
   "cell_type": "code",
   "execution_count": 41,
   "metadata": {
    "collapsed": false
   },
   "outputs": [
    {
     "data": {
      "text/plain": [
       "array([-0.0999795 ,  0.01629908, -0.99485599])"
      ]
     },
     "execution_count": 41,
     "metadata": {},
     "output_type": "execute_result"
    }
   ],
   "source": [
    "spice.surfnm(axes[0], axes[1], axes[2], point_i)"
   ]
  },
  {
   "cell_type": "code",
   "execution_count": 42,
   "metadata": {
    "collapsed": true
   },
   "outputs": [],
   "source": [
    "np.where?"
   ]
  },
  {
   "cell_type": "code",
   "execution_count": 60,
   "metadata": {
    "collapsed": false
   },
   "outputs": [],
   "source": [
    "def _100_():\n",
    "    import xlrd\n",
    "    excelFile100sources = '/Users/klay6683/Dropbox/SternchenAndMe/Enceladus_stuff/100_sources_Porco2014.xlsx'\n",
    "    book = xlrd.open_workbook(excelFile100sources)\n",
    "    sh = book.sheet_by_index(0)\n",
    "    # loop over columns in excel sheet\n",
    "    lonlat = np.zeros((sh.nrows, 2))\n",
    "    lonlat[:, 0] = sh.col_values(0)[:]\n",
    "    lons = np.array(sh.col_values(1)[:])\n",
    "#     ### LONGITUDES !!!\n",
    "    lonlat[:,1]=180. - (lons - 3.5) # it is West Lon in the paper with different zero and in Voyager era            \n",
    "    return lonlat\n"
   ]
  },
  {
   "cell_type": "code",
   "execution_count": 62,
   "metadata": {
    "collapsed": false
   },
   "outputs": [
    {
     "data": {
      "text/plain": [
       "array([[ -75.82,  126.72],\n",
       "       [ -75.93,  126.07],\n",
       "       [ -76.25,  124.86],\n",
       "       [ -76.81,  120.91],\n",
       "       [ -77.56,  118.31]])"
      ]
     },
     "execution_count": 62,
     "metadata": {},
     "output_type": "execute_result"
    }
   ],
   "source": [
    "_100_()[:5]"
   ]
  },
  {
   "cell_type": "code",
   "execution_count": 78,
   "metadata": {
    "collapsed": false
   },
   "outputs": [],
   "source": [
    "df = pd.read_excel('/Users/klay6683/Dropbox/SternchenAndMe/Enceladus_stuff/100_sources_Porco2014.xlsx',\n",
    "                   header=None)\n",
    "lonlat = df[[0,1]].values\n",
    "lonlat[:, 1] = 180. - (lonlat[:, 1] - 3.5)"
   ]
  },
  {
   "cell_type": "code",
   "execution_count": 79,
   "metadata": {
    "collapsed": false
   },
   "outputs": [
    {
     "data": {
      "text/plain": [
       "array([[ -75.82,  126.72],\n",
       "       [ -75.93,  126.07],\n",
       "       [ -76.25,  124.86],\n",
       "       [ -76.81,  120.91],\n",
       "       [ -77.56,  118.31]])"
      ]
     },
     "execution_count": 79,
     "metadata": {},
     "output_type": "execute_result"
    }
   ],
   "source": [
    "lonlat[:5]"
   ]
  },
  {
   "cell_type": "code",
   "execution_count": 75,
   "metadata": {
    "collapsed": false
   },
   "outputs": [
    {
     "data": {
      "text/plain": [
       "array([  56.78,   57.43,   58.64,   62.59,   65.19,   70.08,   81.4 ,\n",
       "         83.31,   88.83,   98.01,  104.9 ,  116.3 ,  128.22,  135.22,\n",
       "        146.37,  155.01,  161.11,  173.53,  176.84,  178.43,  183.83,\n",
       "        180.39,  199.92,  201.  ,   33.31,   32.75,   30.2 ,   30.64,\n",
       "         31.73,   29.44,   29.65,   25.96,   22.04,   17.36,   16.76,\n",
       "         11.87,   11.5 ,    6.89,  358.17,  339.63,  322.42,  272.23,\n",
       "        239.35,  232.38,  228.81,  226.93,  230.2 ,  228.28,  228.12,\n",
       "        229.55,  227.42,  224.77,  225.61,   16.09,   18.  ,   13.81,\n",
       "         13.78,   14.73,   15.8 ,  348.33,  343.99,  339.72,  336.33,\n",
       "        332.02,  327.56,  323.82,  321.01,  314.97,  310.73,  304.77,\n",
       "        302.85,  294.38,  291.57,  283.19,  277.06,  272.63,  263.8 ,\n",
       "        260.62,  255.44,  251.73,  249.07,  246.77,  337.85,  337.2 ,\n",
       "        336.59,  336.34,  333.09,  329.33,  116.16,  153.2 ,  156.72,\n",
       "        164.46,  165.51,  184.81,  199.21,   33.13,   32.78,  131.55,\n",
       "         30.85,  107.27])"
      ]
     },
     "execution_count": 75,
     "metadata": {},
     "output_type": "execute_result"
    }
   ],
   "source": [
    "lonlat[:, 0]"
   ]
  },
  {
   "cell_type": "code",
   "execution_count": 76,
   "metadata": {
    "collapsed": true
   },
   "outputs": [],
   "source": [
    "lonlat[:, 0] = 180. - (lonlat[:, 0] -3.5)"
   ]
  },
  {
   "cell_type": "code",
   "execution_count": 77,
   "metadata": {
    "collapsed": false
   },
   "outputs": [
    {
     "data": {
      "text/plain": [
       "array([[ 126.72,  -75.82],\n",
       "       [ 126.07,  -75.93],\n",
       "       [ 124.86,  -76.25],\n",
       "       [ 120.91,  -76.81],\n",
       "       [ 118.31,  -77.56]])"
      ]
     },
     "execution_count": 77,
     "metadata": {},
     "output_type": "execute_result"
    }
   ],
   "source": [
    "lonlat[:5]"
   ]
  },
  {
   "cell_type": "code",
   "execution_count": 82,
   "metadata": {
    "collapsed": false
   },
   "outputs": [
    {
     "data": {
      "text/plain": [
       "'jet50'"
      ]
     },
     "execution_count": 82,
     "metadata": {},
     "output_type": "execute_result"
    }
   ],
   "source": [
    "i=50\n",
    "'jet'+str(i).zfill(2)"
   ]
  },
  {
   "cell_type": "markdown",
   "metadata": {},
   "source": [
    "l = False"
   ]
  },
  {
   "cell_type": "code",
   "execution_count": 84,
   "metadata": {
    "collapsed": false
   },
   "outputs": [],
   "source": [
    "check = 'False'"
   ]
  },
  {
   "cell_type": "code",
   "execution_count": 86,
   "metadata": {
    "collapsed": false
   },
   "outputs": [
    {
     "name": "stdout",
     "output_type": "stream",
     "text": [
      "yes\n"
     ]
    }
   ],
   "source": [
    "if check:\n",
    "    print(\"yes\")"
   ]
  },
  {
   "cell_type": "code",
   "execution_count": 104,
   "metadata": {
    "collapsed": false
   },
   "outputs": [
    {
     "data": {
      "text/plain": [
       "120.91"
      ]
     },
     "execution_count": 104,
     "metadata": {},
     "output_type": "execute_result"
    }
   ],
   "source": [
    "convert_porco2(62.59)"
   ]
  },
  {
   "cell_type": "code",
   "execution_count": 93,
   "metadata": {
    "collapsed": false
   },
   "outputs": [
    {
     "data": {
      "text/plain": [
       "117.86"
      ]
     },
     "execution_count": 93,
     "metadata": {},
     "output_type": "execute_result"
    }
   ],
   "source": [
    "convert_porco(58.64)"
   ]
  },
  {
   "cell_type": "code",
   "execution_count": 110,
   "metadata": {
    "collapsed": false
   },
   "outputs": [
    {
     "data": {
      "text/plain": [
       "array([-74.1 ,  -1.31])"
      ]
     },
     "execution_count": 110,
     "metadata": {},
     "output_type": "execute_result"
    }
   ],
   "source": [
    "lonlat[93]"
   ]
  },
  {
   "cell_type": "code",
   "execution_count": 100,
   "metadata": {
    "collapsed": false
   },
   "outputs": [],
   "source": [
    "number2reset = 15000\n",
    "lonlat_all = lonlat\n",
    "dlon = np.zeros(number2reset)\n",
    "dlon[:] = np.deg2rad(lonlat_all[3,1])\n",
    "dlat = np.zeros(number2reset)\n",
    "dlat[:] = np.deg2rad((lonlat_all[3,0]))\n",
    "source_lat = dlat[0]\n",
    "source_lon = dlon[0]"
   ]
  },
  {
   "cell_type": "code",
   "execution_count": 101,
   "metadata": {
    "collapsed": false
   },
   "outputs": [
    {
     "data": {
      "text/plain": [
       "2.110277598586344"
      ]
     },
     "execution_count": 101,
     "metadata": {},
     "output_type": "execute_result"
    }
   ],
   "source": [
    "source_lon"
   ]
  },
  {
   "cell_type": "code",
   "execution_count": 103,
   "metadata": {
    "collapsed": false
   },
   "outputs": [
    {
     "data": {
      "text/plain": [
       "120.91000000000001"
      ]
     },
     "execution_count": 103,
     "metadata": {},
     "output_type": "execute_result"
    }
   ],
   "source": [
    "np.rad2deg(source_lon)"
   ]
  },
  {
   "cell_type": "code",
   "execution_count": 115,
   "metadata": {
    "collapsed": false
   },
   "outputs": [
    {
     "data": {
      "text/plain": [
       "-1.3100000000000023"
      ]
     },
     "execution_count": 115,
     "metadata": {},
     "output_type": "execute_result"
    }
   ],
   "source": [
    "convert_porco2(184.81)"
   ]
  },
  {
   "cell_type": "code",
   "execution_count": 112,
   "metadata": {
    "collapsed": false
   },
   "outputs": [
    {
     "data": {
      "text/plain": [
       "0      -74.1\n",
       "1     184.81\n",
       "2       0.19\n",
       "3          9\n",
       "4        106\n",
       "5        NAN\n",
       "6        NAN\n",
       "7          5\n",
       "8          3\n",
       "9          3\n",
       "10     Cairo\n",
       "11      0.17\n",
       "Name: 93, dtype: object"
      ]
     },
     "execution_count": 112,
     "metadata": {},
     "output_type": "execute_result"
    }
   ],
   "source": [
    "df.loc[93]"
   ]
  },
  {
   "cell_type": "code",
   "execution_count": 123,
   "metadata": {
    "collapsed": false
   },
   "outputs": [
    {
     "data": {
      "text/plain": [
       "array([[ -73.17,   26.78],\n",
       "       [ -70.56,   19.04],\n",
       "       [ -69.58,   17.99],\n",
       "       [ -74.1 ,   -1.31],\n",
       "       [ -74.07,  -15.71],\n",
       "       [ -72.99,  150.37],\n",
       "       [ -74.04,  150.72],\n",
       "       [ -75.95,   51.95],\n",
       "       [ -71.24,  152.65],\n",
       "       [ -73.94,   76.23]])"
      ]
     },
     "execution_count": 123,
     "metadata": {},
     "output_type": "execute_result"
    }
   ],
   "source": [
    "lonlat[90:100]"
   ]
  },
  {
   "cell_type": "code",
   "execution_count": 114,
   "metadata": {
    "collapsed": false
   },
   "outputs": [],
   "source": [
    "convert_porco2??"
   ]
  },
  {
   "cell_type": "code",
   "execution_count": null,
   "metadata": {
    "collapsed": true
   },
   "outputs": [],
   "source": []
  }
 ],
 "metadata": {
  "kernelspec": {
   "display_name": "Python 3",
   "language": "python",
   "name": "python3"
  },
  "language_info": {
   "codemirror_mode": {
    "name": "ipython",
    "version": 3
   },
   "file_extension": ".py",
   "mimetype": "text/x-python",
   "name": "python",
   "nbconvert_exporter": "python",
   "pygments_lexer": "ipython3",
   "version": "3.5.0"
  }
 },
 "nbformat": 4,
 "nbformat_minor": 0
}
